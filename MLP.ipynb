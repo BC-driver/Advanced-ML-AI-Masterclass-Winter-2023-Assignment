{
 "cells": [
  {
   "cell_type": "code",
   "execution_count": 1,
   "id": "58365556",
   "metadata": {},
   "outputs": [],
   "source": [
    "import torch\n",
    "import torch.nn as nn\n",
    "import torch.nn.functional as F\n",
    "import torch.optim as optim\n",
    "from torchvision import datasets, transforms\n",
    "import matplotlib.pyplot as plt"
   ]
  },
  {
   "cell_type": "code",
   "execution_count": null,
   "id": "c0d0ebb6",
   "metadata": {},
   "outputs": [],
   "source": [
    "class MLP(nn.module):\n",
    "    def __init__(self):\n",
    "        super.__init__()\n",
    "        self.FC1 = nn.Linear(2, 10)\n",
    "        self.FC2 = nn.Linear(10, 15)\n",
    "        self.FC3 = nn.Linear(15, 20)\n",
    "        self.FC4 = nn.Linear(20, 10)\n",
    "        self.FC5 = nn.Linear(10, 4)\n",
    "\n",
    "    def forward(self, x):\n",
    "        x = self.FC1(x)\n",
    "        x = F.relu(x)\n",
    "\n",
    "        x = self.FC2(x)\n",
    "        x = F.relu(x)\n",
    "\n",
    "        x = self.FC3(x)\n",
    "        x = F.relu(x)\n",
    "\n",
    "        x = self.FC4(x)\n",
    "        x = F.relu(x)\n",
    "\n",
    "        x = self.FC5(x)\n",
    "\n",
    "        return x"
   ]
  }
 ],
 "metadata": {
  "kernelspec": {
   "display_name": "Python 3 (ipykernel)",
   "language": "python",
   "name": "python3"
  },
  "language_info": {
   "codemirror_mode": {
    "name": "ipython",
    "version": 3
   },
   "file_extension": ".py",
   "mimetype": "text/x-python",
   "name": "python",
   "nbconvert_exporter": "python",
   "pygments_lexer": "ipython3",
   "version": "3.10.9"
  }
 },
 "nbformat": 4,
 "nbformat_minor": 5
}
